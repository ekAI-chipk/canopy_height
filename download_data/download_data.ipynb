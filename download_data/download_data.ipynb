{
 "cells": [
  {
   "cell_type": "code",
   "execution_count": 3,
   "metadata": {},
   "outputs": [],
   "source": [
    "import ee\n",
    "import pandas as pd\n",
    "import os\n",
    "import numpy as np\n",
    "ee.Initialize(project='ee-syvt')\n"
   ]
  },
  {
   "cell_type": "code",
   "execution_count": 2,
   "metadata": {},
   "outputs": [],
   "source": [
    "# import ee\n",
    "# import pandas as pd\n",
    "# import os\n",
    "# import numpy as np\n",
    "# ee.Initialize(project='ee-vutrisyiii')\n"
   ]
  },
  {
   "cell_type": "code",
   "execution_count": 4,
   "metadata": {},
   "outputs": [],
   "source": [
    "csv_path = 'output.csv'\n",
    "df = pd.read_csv(csv_path)"
   ]
  },
  {
   "cell_type": "code",
   "execution_count": 5,
   "metadata": {},
   "outputs": [],
   "source": [
    "df.head()"
   ]
  },
  {
   "cell_type": "markdown",
   "metadata": {},
   "source": [
    "# Donwload GEDI"
   ]
  },
  {
   "cell_type": "code",
   "execution_count": 12,
   "metadata": {},
   "outputs": [],
   "source": [
    "# Download GEDI\n",
    "grid_500kv = ee.FeatureCollection('projects/ee-vutrisyiii/assets/grid500kv')\n",
    "grid_220kv = ee.FeatureCollection('projects/ee-vutrisyiii/assets/grid220kv')\n",
    "\n"
   ]
  },
  {
   "cell_type": "code",
   "execution_count": 13,
   "metadata": {},
   "outputs": [],
   "source": [
    "def getPolygonGeometryById(id):\n",
    "    polygonFeature = grid_500kv.filter(ee.Filter.eq('id', id)).first()\n",
    "    if polygonFeature.getInfo() is not None:\n",
    "      geometry = polygonFeature.geometry() if polygonFeature else None\n",
    "      return geometry\n",
    "    \n",
    "    polygonFeature = grid_220kv.filter(ee.Filter.eq('id', id)).first()\n",
    "    if polygonFeature.getInfo() is None:\n",
    "      return None\n",
    "    \n",
    "    geometry = polygonFeature.geometry() if polygonFeature else None\n",
    "    return geometry \n",
    "\n",
    "def qualityMask(im):\n",
    "    # Apply quality and degrade flags in one updateMask call for better performance\n",
    "    return im.updateMask(im.select('quality_flag').eq(1).And(im.select('degrade_flag').eq(0)))\n",
    "\n",
    "def download_gedi(index, id_, month, year, output_folder=None):\n",
    "    id_ = int(id_)\n",
    "    year = int(year)\n",
    "    month = int(month)\n",
    "    \n",
    "    startOfMonth = ee.Date.fromYMD(year, month, 1)\n",
    "    endOfMonth = startOfMonth.advance(1, 'month')\n",
    "\n",
    "    # Get the grid bounds for the given ID\n",
    "    gridBounds = getPolygonGeometryById(id_)\n",
    "\n",
    "    if gridBounds:\n",
    "        # Apply filterBounds to the ImageCollection immediately to reduce size\n",
    "        dataset = ee.ImageCollection('LARSE/GEDI/GEDI02_A_002_MONTHLY')\\\n",
    "                    .filterDate(startOfMonth, endOfMonth)\\\n",
    "                    .filterBounds(gridBounds)\\\n",
    "                    .map(qualityMask)\\\n",
    "                    .select('rh98')\n",
    "\n",
    "        # If the dataset is not empty, take the first image and clip it\n",
    "        image = dataset.first().clip(gridBounds).toFloat()\n",
    "\n",
    "        # Export the image with desired CRS (EPSG:32648)\n",
    "        task = ee.batch.Export.image.toDrive(\n",
    "            image=image,\n",
    "            description=f'GEDI_export_{index:04}_{id_}_{month:02}_{year}',\n",
    "            scale=10,\n",
    "            crs='EPSG:32648',\n",
    "            fileFormat='GeoTIFF',\n",
    "            folder=output_folder or 'GEDI_500_220kv_exports_1',\n",
    "            maxPixels=1e13\n",
    "        )\n",
    "\n",
    "        task.start()\n",
    "\n",
    "        print(f\"Export GEDI_{index:04}_{id_}_{month:02}_{year} to {output_folder}\")"
   ]
  },
  {
   "cell_type": "code",
   "execution_count": 20,
   "metadata": {},
   "outputs": [],
   "source": [
    "start = 4000\n",
    "end = 5000\n",
    "\n",
    "for i in range(5, 10):\n",
    "    id_, m, y = df['id'][i], df['month'][i], df['year'][i]\n",
    "    download_gedi(i, id_, m, y, f'GEDI_GEE_L2A_V2')"
   ]
  },
  {
   "cell_type": "markdown",
   "metadata": {},
   "source": [
    "# Download Sentinel-2"
   ]
  },
  {
   "cell_type": "code",
   "execution_count": 16,
   "metadata": {},
   "outputs": [],
   "source": [
    "# Download s2\n",
    "\n",
    "def getCloudMaskMonthlyImage(year, month, region):\n",
    "  startOfMonth = ee.Date.fromYMD(year, month, 1)\n",
    "  endOfMonth = startOfMonth.advance(1, 'month')\n",
    "\n",
    "  # Filter Sentinel-2 image collection\n",
    "  sentinel2 = ee.ImageCollection('COPERNICUS/S2_SR_HARMONIZED')\\\n",
    "                  .filterBounds(region)\\\n",
    "                  .filterDate(startOfMonth, endOfMonth)\\\n",
    "                  .select(['B1', 'B2', 'B3', 'B4','B5', 'B6', 'B7', 'B8', 'B8A', 'B9', 'B11', 'B12', 'SCL'])\n",
    "                  # .select(['B01', 'B02', 'B03', 'B04', 'B05', 'B06', 'B07', 'B08', 'B8A', 'B09', 'B11', 'B12'])\n",
    "                  \n",
    "  # Add CLOUDY_PIXEL_PERCENTAGE as a property\n",
    "  # def mp_func(image):\n",
    "  #   cloudiness = ee.Number(image.get('CLOUDY_PIXEL_PERCENTAGE'))\n",
    "  #   return image.set('cloudiness', cloudiness)\n",
    "  \n",
    "  def mask_clouds(image):\n",
    "    scl = image.select('SCL')\n",
    "    cloud_mask = scl.neq(5).And(scl.neq(6)).And(scl.neq(8)).And(scl.neq(9)).And(scl.neq(11))\n",
    "    return image.updateMask(cloud_mask)\n",
    "  \n",
    "  # sentinel2 = sentinel2.map(mp_func)\n",
    "  sentinel2 = sentinel2.map(mask_clouds)\n",
    "  \n",
    "\n",
    "  # Calculate the median image for the month\n",
    "  medianImage = sentinel2.median().clip(region)\n",
    "\n",
    "  return medianImage # Return the collection for further use\n",
    "\n",
    "def download_s2(index, id_, month, year, output_folder=None):\n",
    "  id_ = int(id_)\n",
    "  month = int(month)\n",
    "  year = int(year)\n",
    "  \n",
    "  gridBounds = getPolygonGeometryById(id_)\n",
    "\n",
    "  if gridBounds is not None:\n",
    "    images = getCloudMaskMonthlyImage(year, month, gridBounds)\n",
    "    \n",
    "    # Set the data type before export\n",
    "    images = images.toFloat()\n",
    "    # Export the image with desired CRS (WGS84 in this example)\n",
    "    task = ee.batch.Export.image.toDrive(\n",
    "        image=images,\n",
    "        description=f'S2_export_{index:04}_{id_}_{month:02}_{year}',\n",
    "        scale=10,\n",
    "        crs='EPSG:32648', \n",
    "        fileFormat='GeoTIFF',\n",
    "        folder=output_folder or 'S2_500_220kv_exports',\n",
    "        maxPixels=1e13\n",
    "    )\n",
    "\n",
    "    task.start()\n",
    "\n",
    "    print(f\"Export S2_{index:04}_{id_}_{month:02}_{year} to {output_folder}\")"
   ]
  },
  {
   "cell_type": "code",
   "execution_count": 17,
   "metadata": {},
   "outputs": [],
   "source": [
    "start = 4000\n",
    "end = 5000\n",
    "for i in range(3):\n",
    "    id_, m, y = df['id'][i], df['month'][i], df['year'][i]\n",
    "    # download_s2(i, id_, m, y, f'S2_{i // 200:02}')\n",
    "    download_s2(i, id_, m, y, f'S2_sample')\n",
    "    \n",
    "    "
   ]
  }
 ],
 "metadata": {
  "kernelspec": {
   "display_name": "project_env",
   "language": "python",
   "name": "python3"
  },
  "language_info": {
   "codemirror_mode": {
    "name": "ipython",
    "version": 3
   },
   "file_extension": ".py",
   "mimetype": "text/x-python",
   "name": "python",
   "nbconvert_exporter": "python",
   "pygments_lexer": "ipython3",
   "version": "3.9.20"
  }
 },
 "nbformat": 4,
 "nbformat_minor": 2
}
